{
 "cells": [
  {
   "cell_type": "code",
   "execution_count": 5,
   "metadata": {},
   "outputs": [
    {
     "name": "stdout",
     "output_type": "stream",
     "text": [
      "Semua tetangga dari vertex a:  ['b', 'd']\n",
      "Semua tetangga dari vertex d:  ['a', 'b', 'c']\n",
      "\n",
      "Menampilkan semua vertex dan tetangganya masingmasing\n",
      "a : ['b', 'd']\n",
      "b : ['a', 'd']\n",
      "c : ['d']\n",
      "d : ['a', 'b', 'c']\n"
     ]
    }
   ],
   "source": [
    "# Graph List\n",
    "# list of lists\n",
    "adjLists = [ ['b','d'], ['a','d'], ['d'], ['a','b','c'] ]\n",
    "node= ['a','b','c','d']\n",
    "# testing\n",
    "print(\"Semua tetangga dari vertex a: \", adjLists[0])\n",
    "print(\"Semua tetangga dari vertex d: \", adjLists[3])\n",
    "print(\"\\nMenampilkan semua vertex dan tetangganya masingmasing\")\n",
    "n = len(adjLists)\n",
    "for n in range(0,n):\n",
    "    print(node[n], \":\", adjLists[n])"
   ]
  },
  {
   "cell_type": "code",
   "execution_count": 4,
   "metadata": {},
   "outputs": [
    {
     "name": "stdout",
     "output_type": "stream",
     "text": [
      "Semua tetangga dari vertex indeks ke a:  ['b', 'd']\n",
      "Semua tetangga dari vertex indeks ke d:  ['a', 'b', 'c']\n",
      "\n",
      "Menampilkan semua vertex dan tetangganya masing-masing\n",
      "a : ['b', 'd']\n",
      "b : ['a', 'd']\n",
      "c : ['d']\n",
      "d : ['a', 'b', 'c']\n"
     ]
    }
   ],
   "source": [
    "#Graph Dictionary\n",
    "adjLists_dict = {}\n",
    "# insert (vertex, list) pairs into dictionary\n",
    "adjLists_dict = {'a': ['b', 'd'],\n",
    "    'b': ['a', 'd'],\n",
    "    'c': ['d'],\n",
    "    'd': ['a','b','c'],\n",
    "    }\n",
    "# testing\n",
    "print(\"Semua tetangga dari vertex indeks ke a: \",adjLists_dict['a'])\n",
    "print(\"Semua tetangga dari vertex indeks ke d: \",adjLists_dict['d'])\n",
    "print(\"\\nMenampilkan semua vertex dan tetangganya masing-masing\")\n",
    "for node in adjLists_dict:\n",
    "    print(node, \":\", adjLists_dict[node])"
   ]
  },
  {
   "cell_type": "code",
   "execution_count": 2,
   "metadata": {},
   "outputs": [
    {
     "name": "stdout",
     "output_type": "stream",
     "text": [
      "   0    1    0    1 \n",
      "   1    0    0    1 \n",
      "   0    0    0    1 \n",
      "   1    1    1    0 \n"
     ]
    }
   ],
   "source": [
    "# Graph Matrix\n",
    "class Graph(object):\n",
    "    def __init__(self, size):\n",
    "        self.adjMatrix = []\n",
    "        for i in range(size):\n",
    "            self.adjMatrix.append([0 for i in range(size)])\n",
    "        self.size = size\n",
    "        \n",
    "    def addEdge(self, v1, v2):\n",
    "        if v1 == v2:\n",
    "            print(\"Same vertex %d and %d\" % (v1, v2))\n",
    "        self.adjMatrix[v1][v2] = 1\n",
    "        self.adjMatrix[v2][v1] = 1\n",
    "    def removeEdge(self, v1, v2):\n",
    "        if self.adjMatrix[v1][v2] == 0:\n",
    "            print(\"No edge between %d and %d\" % (v1, v2))\n",
    "            return\n",
    "        self.adjMatrix[v1][v2] = 0\n",
    "        self.adjMatrix[v2][v1] = 0\n",
    "    def containsEdge(self, v1, v2):\n",
    "        return True if self.adjMatrix[v1][v2] > 0 else False\n",
    "    def __len__(self):\n",
    "        return self.size\n",
    "    def toString(self):\n",
    "        for row in self.adjMatrix:\n",
    "            for val in row:\n",
    "                print('{:4}'.format(val), end = ' ')\n",
    "            print()\n",
    "def main():\n",
    "    g = Graph(4)\n",
    "    g.addEdge(0, 1);\n",
    "    g.addEdge(0, 3);\n",
    "    g.addEdge(1, 3);\n",
    "    g.addEdge(2, 3);\n",
    "    g.toString()\n",
    "if __name__ == '__main__':\n",
    "    main()"
   ]
  },
  {
   "cell_type": "code",
   "execution_count": 1,
   "metadata": {},
   "outputs": [
    {
     "name": "stdout",
     "output_type": "stream",
     "text": [
      "Adjacency list dari vertex 0\n",
      " head -> 3 -> 1 \n",
      "\n",
      "Adjacency list dari vertex 1\n",
      " head -> 3 -> 0 \n",
      "\n",
      "Adjacency list dari vertex 2\n",
      " head -> 3 \n",
      "\n",
      "Adjacency list dari vertex 3\n",
      " head -> 2 -> 1 -> 0 \n",
      "\n"
     ]
    }
   ],
   "source": [
    "# Graph Linked List\n",
    "class AdjNode:\n",
    "    def __init__(self, data):\n",
    "        self.vertex = data\n",
    "        self.next = None\n",
    "class Graph:\n",
    "    def __init__(self, vertices):\n",
    "        self.V = vertices\n",
    "        self.graph = [None] * self.V\n",
    "    # Function to add an edge in an undirected graph\n",
    "    def add_edge(self, src, dest):\n",
    "    # Adding the node to the source node\n",
    "        node = AdjNode(dest)\n",
    "        node.next = self.graph[src]\n",
    "        self.graph[src] = node\n",
    "    # Adding the source node to the destination as\n",
    "    # it is the undirected graph\n",
    "        node = AdjNode(src)\n",
    "        node.next = self.graph[dest]\n",
    "        self.graph[dest] = node\n",
    "    # Function to print the graph\n",
    "    def print_graph(self):\n",
    "        for i in range(self.V):\n",
    "            print(\"Adjacency list dari vertex {}\\n head\".format(i),end=\"\")\n",
    "            temp = self.graph[i]\n",
    "            while temp:\n",
    "                print(\" -> {}\".format(temp.vertex), end=\"\")\n",
    "                temp = temp.next\n",
    "            print(\" \\n\")\n",
    "if __name__ == \"__main__\":\n",
    "    V = 4\n",
    "    graph = Graph(V)\n",
    "    graph.add_edge(0, 1)\n",
    "    graph.add_edge(0, 3)\n",
    "    graph.add_edge(1, 3)\n",
    "    graph.add_edge(2, 3)\n",
    "    graph.print_graph()"
   ]
  },
  {
   "cell_type": "code",
   "execution_count": 3,
   "metadata": {},
   "outputs": [
    {
     "name": "stdout",
     "output_type": "stream",
     "text": [
      "['a', 'c']\n",
      "[['b', 'c', 'a', 'd'], ['b', 'c', 'd'], ['b', 'e', 'c', 'a', 'd'], ['b', 'e', 'c', 'd']]\n",
      "['a', 'd']\n"
     ]
    }
   ],
   "source": [
    "#Transversal Graph\n",
    "graph = { \"a\": [\"c\",\"d\"],\n",
    "          \"b\": [\"c\", \"e\"],\n",
    "          \"c\": [\"a\", \"b\", \"d\", \"e\"],\n",
    "          \"d\": [\"c\",\"e\"],\"e\": [\"c\", \"b\"],\n",
    "          \"f\": []}\n",
    "\n",
    "def find_path(graph, start, end, path=[]):\n",
    "                path = path + [start]\n",
    "                for node in graph[start]:\n",
    "                    if not node in path:\n",
    "                        newpath = find_path(graph, node, end, path)\n",
    "                        if newpath != None:\n",
    "                            return newpath\n",
    "                if start == end:\n",
    "                    return path\n",
    "                if not start in graph:\n",
    "                    return None\n",
    "\n",
    "def all_path(graph, start, end, path=[]):\n",
    "                path = path + [start]\n",
    "                if start == end:\n",
    "                    return [path]\n",
    "                if not start in graph:\n",
    "                    return []\n",
    "                paths = []\n",
    "                for node in graph[start]:\n",
    "                    if not node  in path:\n",
    "                        newpaths = all_path(graph, node, end, path)\n",
    "                        for newpath in newpaths:\n",
    "                            paths.append(newpath)\n",
    "                return paths\n",
    "\n",
    "def shortest_path(graph, start, end, path=[]):\n",
    "                path = path + [start]\n",
    "                if start == end:\n",
    "                    return path\n",
    "                if not start in graph:\n",
    "                    return None\n",
    "              \n",
    "                shortest = None\n",
    "                for node in graph[start]:\n",
    "                    if node not in path:\n",
    "                        newpath = shortest_path(graph, node, end, path)\n",
    "                        if newpath != None:\n",
    "                            if not shortest or len(newpath) < len(shortest):\n",
    "                                shortest = newpath\n",
    "                return shortest\n",
    "\n",
    "print(find_path(graph,'a','c'))\n",
    "print(all_path(graph,'b','d'))\n",
    "print(shortest_path(graph,'a','d'))\n"
   ]
  },
  {
   "cell_type": "code",
   "execution_count": null,
   "metadata": {},
   "outputs": [],
   "source": []
  }
 ],
 "metadata": {
  "kernelspec": {
   "display_name": "Python 3",
   "language": "python",
   "name": "python3"
  },
  "language_info": {
   "codemirror_mode": {
    "name": "ipython",
    "version": 3
   },
   "file_extension": ".py",
   "mimetype": "text/x-python",
   "name": "python",
   "nbconvert_exporter": "python",
   "pygments_lexer": "ipython3",
   "version": "3.7.3"
  }
 },
 "nbformat": 4,
 "nbformat_minor": 2
}
